{
 "cells": [
  {
   "cell_type": "markdown",
   "metadata": {},
   "source": [
    "# LAB | Feature Engineering"
   ]
  },
  {
   "cell_type": "markdown",
   "metadata": {},
   "source": [
    "**Load the data**\n",
    "\n",
    "In this challenge, we will be working with the same Spaceship Titanic data, like the previous Lab. The data can be found here:\n",
    "\n",
    "https://raw.githubusercontent.com/data-bootcamp-v4/data/main/spaceship_titanic.csv\n",
    "\n",
    "Metadata\n",
    "\n",
    "https://github.com/data-bootcamp-v4/data/blob/main/spaceship_titanic.md"
   ]
  },
  {
   "cell_type": "code",
   "execution_count": null,
   "metadata": {},
   "outputs": [],
   "source": [
    "#Libraries\n",
    "import pandas as pd\n",
    "import numpy as np\n",
    "from sklearn.model_selection import train_test_split\n",
    "from sklearn.metrics import r2_score, root_mean_squared_error, mean_absolute_error\n"
   ]
  },
  {
   "cell_type": "code",
   "execution_count": 78,
   "metadata": {},
   "outputs": [
    {
     "data": {
      "application/vnd.microsoft.datawrangler.viewer.v0+json": {
       "columns": [
        {
         "name": "index",
         "rawType": "int64",
         "type": "integer"
        },
        {
         "name": "PassengerId",
         "rawType": "object",
         "type": "string"
        },
        {
         "name": "HomePlanet",
         "rawType": "object",
         "type": "unknown"
        },
        {
         "name": "CryoSleep",
         "rawType": "object",
         "type": "unknown"
        },
        {
         "name": "Cabin",
         "rawType": "object",
         "type": "unknown"
        },
        {
         "name": "Destination",
         "rawType": "object",
         "type": "unknown"
        },
        {
         "name": "Age",
         "rawType": "float64",
         "type": "float"
        },
        {
         "name": "VIP",
         "rawType": "object",
         "type": "unknown"
        },
        {
         "name": "RoomService",
         "rawType": "float64",
         "type": "float"
        },
        {
         "name": "FoodCourt",
         "rawType": "float64",
         "type": "float"
        },
        {
         "name": "ShoppingMall",
         "rawType": "float64",
         "type": "float"
        },
        {
         "name": "Spa",
         "rawType": "float64",
         "type": "float"
        },
        {
         "name": "VRDeck",
         "rawType": "float64",
         "type": "float"
        },
        {
         "name": "Name",
         "rawType": "object",
         "type": "unknown"
        },
        {
         "name": "Transported",
         "rawType": "bool",
         "type": "boolean"
        }
       ],
       "ref": "411bf287-aee1-4461-bede-d00ae43c9bcd",
       "rows": [
        [
         "0",
         "0001_01",
         "Europa",
         "False",
         "B/0/P",
         "TRAPPIST-1e",
         "39.0",
         "False",
         "0.0",
         "0.0",
         "0.0",
         "0.0",
         "0.0",
         "Maham Ofracculy",
         "False"
        ],
        [
         "1",
         "0002_01",
         "Earth",
         "False",
         "F/0/S",
         "TRAPPIST-1e",
         "24.0",
         "False",
         "109.0",
         "9.0",
         "25.0",
         "549.0",
         "44.0",
         "Juanna Vines",
         "True"
        ],
        [
         "2",
         "0003_01",
         "Europa",
         "False",
         "A/0/S",
         "TRAPPIST-1e",
         "58.0",
         "True",
         "43.0",
         "3576.0",
         "0.0",
         "6715.0",
         "49.0",
         "Altark Susent",
         "False"
        ],
        [
         "3",
         "0003_02",
         "Europa",
         "False",
         "A/0/S",
         "TRAPPIST-1e",
         "33.0",
         "False",
         "0.0",
         "1283.0",
         "371.0",
         "3329.0",
         "193.0",
         "Solam Susent",
         "False"
        ],
        [
         "4",
         "0004_01",
         "Earth",
         "False",
         "F/1/S",
         "TRAPPIST-1e",
         "16.0",
         "False",
         "303.0",
         "70.0",
         "151.0",
         "565.0",
         "2.0",
         "Willy Santantines",
         "True"
        ],
        [
         "5",
         "0005_01",
         "Earth",
         "False",
         "F/0/P",
         "PSO J318.5-22",
         "44.0",
         "False",
         "0.0",
         "483.0",
         "0.0",
         "291.0",
         "0.0",
         "Sandie Hinetthews",
         "True"
        ],
        [
         "6",
         "0006_01",
         "Earth",
         "False",
         "F/2/S",
         "TRAPPIST-1e",
         "26.0",
         "False",
         "42.0",
         "1539.0",
         "3.0",
         "0.0",
         "0.0",
         "Billex Jacostaffey",
         "True"
        ],
        [
         "7",
         "0006_02",
         "Earth",
         "True",
         "G/0/S",
         "TRAPPIST-1e",
         "28.0",
         "False",
         "0.0",
         "0.0",
         "0.0",
         "0.0",
         null,
         "Candra Jacostaffey",
         "True"
        ],
        [
         "8",
         "0007_01",
         "Earth",
         "False",
         "F/3/S",
         "TRAPPIST-1e",
         "35.0",
         "False",
         "0.0",
         "785.0",
         "17.0",
         "216.0",
         "0.0",
         "Andona Beston",
         "True"
        ],
        [
         "9",
         "0008_01",
         "Europa",
         "True",
         "B/1/P",
         "55 Cancri e",
         "14.0",
         "False",
         "0.0",
         "0.0",
         "0.0",
         "0.0",
         "0.0",
         "Erraiam Flatic",
         "True"
        ],
        [
         "10",
         "0008_02",
         "Europa",
         "True",
         "B/1/P",
         "TRAPPIST-1e",
         "34.0",
         "False",
         "0.0",
         "0.0",
         null,
         "0.0",
         "0.0",
         "Altardr Flatic",
         "True"
        ],
        [
         "11",
         "0008_03",
         "Europa",
         "False",
         "B/1/P",
         "55 Cancri e",
         "45.0",
         "False",
         "39.0",
         "7295.0",
         "589.0",
         "110.0",
         "124.0",
         "Wezena Flatic",
         "True"
        ],
        [
         "12",
         "0009_01",
         "Mars",
         "False",
         "F/1/P",
         "TRAPPIST-1e",
         "32.0",
         "False",
         "73.0",
         "0.0",
         "1123.0",
         "0.0",
         "113.0",
         "Berers Barne",
         "True"
        ],
        [
         "13",
         "0010_01",
         "Earth",
         "False",
         "G/1/S",
         "TRAPPIST-1e",
         "48.0",
         "False",
         "719.0",
         "1.0",
         "65.0",
         "0.0",
         "24.0",
         "Reney Baketton",
         "False"
        ],
        [
         "14",
         "0011_01",
         "Earth",
         "False",
         "F/2/P",
         "TRAPPIST-1e",
         "28.0",
         "False",
         "8.0",
         "974.0",
         "12.0",
         "2.0",
         "7.0",
         "Elle Bertsontry",
         "True"
        ],
        [
         "15",
         "0012_01",
         "Earth",
         "False",
         null,
         "TRAPPIST-1e",
         "31.0",
         "False",
         "32.0",
         "0.0",
         "876.0",
         "0.0",
         "0.0",
         "Justie Pooles",
         "False"
        ],
        [
         "16",
         "0014_01",
         "Mars",
         "False",
         "F/3/P",
         "55 Cancri e",
         "27.0",
         "False",
         "1286.0",
         "122.0",
         null,
         "0.0",
         "0.0",
         "Flats Eccle",
         "False"
        ],
        [
         "17",
         "0015_01",
         "Earth",
         "False",
         "F/4/P",
         "55 Cancri e",
         "24.0",
         "False",
         "0.0",
         "1.0",
         "0.0",
         "0.0",
         "637.0",
         "Carry Hughriend",
         "False"
        ],
        [
         "18",
         "0016_01",
         "Mars",
         "True",
         "F/5/P",
         "TRAPPIST-1e",
         "45.0",
         "False",
         "0.0",
         "0.0",
         "0.0",
         "0.0",
         "0.0",
         "Alus Upead",
         "True"
        ],
        [
         "19",
         "0017_01",
         "Earth",
         "False",
         "G/0/P",
         "TRAPPIST-1e",
         "0.0",
         "False",
         "0.0",
         "0.0",
         "0.0",
         "0.0",
         "0.0",
         "Lyde Brighttt",
         "True"
        ],
        [
         "20",
         "0017_02",
         "Earth",
         "False",
         "F/6/P",
         "55 Cancri e",
         "14.0",
         "False",
         "412.0",
         "0.0",
         "1.0",
         "0.0",
         "679.0",
         "Philda Brighttt",
         "False"
        ],
        [
         "21",
         "0020_01",
         "Earth",
         "True",
         "E/0/S",
         "TRAPPIST-1e",
         "1.0",
         "False",
         "0.0",
         "0.0",
         "0.0",
         "0.0",
         "0.0",
         "Almary Brantuarez",
         "False"
        ],
        [
         "22",
         "0020_02",
         "Earth",
         "True",
         "E/0/S",
         "55 Cancri e",
         "49.0",
         "False",
         "0.0",
         "0.0",
         "0.0",
         "0.0",
         "0.0",
         "Glendy Brantuarez",
         "False"
        ],
        [
         "23",
         "0020_03",
         "Earth",
         "True",
         "E/0/S",
         "55 Cancri e",
         "29.0",
         "False",
         "0.0",
         "0.0",
         null,
         "0.0",
         "0.0",
         "Mollen Mcfaddennon",
         "False"
        ],
        [
         "24",
         "0020_04",
         "Earth",
         "False",
         "E/0/S",
         "TRAPPIST-1e",
         "10.0",
         "False",
         "0.0",
         "0.0",
         "0.0",
         "0.0",
         "0.0",
         "Breney Jacostanley",
         "True"
        ],
        [
         "25",
         "0020_05",
         "Earth",
         "True",
         "E/0/S",
         "PSO J318.5-22",
         "1.0",
         "False",
         null,
         "0.0",
         "0.0",
         "0.0",
         "0.0",
         "Mael Brantuarez",
         "False"
        ],
        [
         "26",
         "0020_06",
         "Earth",
         "False",
         "E/0/S",
         "TRAPPIST-1e",
         "7.0",
         "False",
         "0.0",
         "0.0",
         "0.0",
         "0.0",
         "0.0",
         "Terta Mcfaddennon",
         "False"
        ],
        [
         "27",
         "0022_01",
         "Mars",
         "False",
         "D/0/P",
         "TRAPPIST-1e",
         "21.0",
         "False",
         "980.0",
         "2.0",
         "69.0",
         "0.0",
         "0.0",
         null,
         "False"
        ],
        [
         "28",
         "0024_01",
         "Europa",
         "True",
         "C/2/S",
         "TRAPPIST-1e",
         "62.0",
         "False",
         "0.0",
         "0.0",
         null,
         "0.0",
         "0.0",
         "Penton Fullided",
         "True"
        ],
        [
         "29",
         "0025_01",
         "Earth",
         "False",
         "F/6/S",
         "TRAPPIST-1e",
         "15.0",
         "False",
         "0.0",
         "225.0",
         "0.0",
         "998.0",
         "0.0",
         "Karard Brookenson",
         "False"
        ],
        [
         "30",
         "0026_01",
         "Europa",
         "False",
         "C/0/P",
         "55 Cancri e",
         "34.0",
         "False",
         "22.0",
         "6073.0",
         "0.0",
         "1438.0",
         "328.0",
         "Anyoni Unconary",
         "False"
        ],
        [
         "31",
         "0028_01",
         "Mars",
         "False",
         "F/8/P",
         "TRAPPIST-1e",
         "43.0",
         "False",
         "1125.0",
         "0.0",
         "136.0",
         "48.0",
         "0.0",
         "Ceros Mare",
         "False"
        ],
        [
         "32",
         "0030_01",
         "Earth",
         "False",
         "G/4/S",
         "TRAPPIST-1e",
         "32.0",
         "False",
         "0.0",
         "850.0",
         "81.0",
         "437.0",
         "453.0",
         "Ginia Morsentley",
         "False"
        ],
        [
         "33",
         "0031_01",
         "Mars",
         "False",
         "F/9/P",
         "TRAPPIST-1e",
         "47.0",
         "False",
         "214.0",
         "0.0",
         "1411.0",
         "0.0",
         "1229.0",
         "Coobix Datie",
         "True"
        ],
        [
         "34",
         "0031_02",
         "Mars",
         "False",
         "F/9/P",
         "TRAPPIST-1e",
         "2.0",
         "False",
         "0.0",
         "0.0",
         "0.0",
         "0.0",
         "0.0",
         "Cinets Datie",
         "True"
        ],
        [
         "35",
         "0031_03",
         "Mars",
         "False",
         "F/9/P",
         "TRAPPIST-1e",
         "20.0",
         "False",
         null,
         "0.0",
         "1750.0",
         "990.0",
         "0.0",
         "Dontch Datie",
         "True"
        ],
        [
         "36",
         "0034_01",
         "Europa",
         "True",
         "D/1/S",
         "55 Cancri e",
         "28.0",
         "False",
         "0.0",
         "0.0",
         "0.0",
         "0.0",
         "0.0",
         "Ziba Oingwhedly",
         "True"
        ],
        [
         "37",
         "0035_01",
         "Mars",
         "False",
         "D/1/P",
         "55 Cancri e",
         "23.0",
         "False",
         "784.0",
         "964.0",
         "0.0",
         "951.0",
         "0.0",
         "Luse Butte",
         "False"
        ],
        [
         "38",
         "0036_01",
         "Earth",
         "False",
         "F/8/S",
         "55 Cancri e",
         "15.0",
         null,
         "0.0",
         "492.0",
         "48.0",
         "20.0",
         "401.0",
         "Marina Leodger",
         "False"
        ],
        [
         "39",
         "0038_01",
         "Earth",
         "False",
         "F/10/S",
         "55 Cancri e",
         "20.0",
         "False",
         "554.0",
         "195.0",
         "0.0",
         "2606.0",
         "0.0",
         "Loise Wheelez",
         "False"
        ],
        [
         "40",
         "0039_01",
         "Earth",
         "True",
         "G/1/P",
         "55 Cancri e",
         "30.0",
         "False",
         "0.0",
         "0.0",
         null,
         "0.0",
         "0.0",
         "Jorgie Batthewitt",
         "False"
        ],
        [
         "41",
         "0041_01",
         "Earth",
         "True",
         "G/2/P",
         "TRAPPIST-1e",
         "17.0",
         "False",
         "0.0",
         "0.0",
         "0.0",
         "0.0",
         "0.0",
         "Margia Moodsey",
         "True"
        ],
        [
         "42",
         "0043_01",
         "Europa",
         "False",
         "B/3/P",
         "TRAPPIST-1e",
         "45.0",
         "False",
         "0.0",
         "164.0",
         "45.0",
         "2511.0",
         "855.0",
         "Ankalik Cylistrand",
         "False"
        ],
        [
         "43",
         "0044_01",
         "Earth",
         "True",
         "G/3/P",
         "TRAPPIST-1e",
         "55.0",
         "False",
         "0.0",
         "0.0",
         "0.0",
         "0.0",
         "0.0",
         "Jodye Coopelandez",
         "False"
        ],
        [
         "44",
         "0044_02",
         "Earth",
         "True",
         "G/3/P",
         "55 Cancri e",
         "4.0",
         "False",
         "0.0",
         "0.0",
         "0.0",
         "0.0",
         "0.0",
         "Kayne Coopelandez",
         "True"
        ],
        [
         "45",
         "0044_03",
         "Earth",
         "True",
         "G/3/P",
         "PSO J318.5-22",
         "21.0",
         "False",
         "0.0",
         "0.0",
         "0.0",
         "0.0",
         "0.0",
         "Cassa Coopelandez",
         "True"
        ],
        [
         "46",
         "0045_01",
         "Mars",
         "False",
         "F/10/P",
         "TRAPPIST-1e",
         "21.0",
         "False",
         "970.0",
         "0.0",
         "180.0",
         "0.0",
         "64.0",
         "Zelowl Chmad",
         "False"
        ],
        [
         "47",
         "0045_02",
         "Mars",
         "True",
         "F/10/P",
         null,
         "19.0",
         "False",
         "0.0",
         "0.0",
         "0.0",
         "0.0",
         "0.0",
         "Mass Chmad",
         "True"
        ],
        [
         "48",
         "0050_01",
         "Earth",
         "False",
         "E/1/S",
         "55 Cancri e",
         "35.0",
         "False",
         "790.0",
         "0.0",
         "0.0",
         null,
         "0.0",
         "Sony Lancis",
         "False"
        ],
        [
         "49",
         "0051_01",
         "Earth",
         "False",
         "E/2/S",
         "TRAPPIST-1e",
         "56.0",
         "False",
         "0.0",
         "112.0",
         "0.0",
         "1379.0",
         "127.0",
         "Vivia Johnshines",
         "False"
        ]
       ],
       "shape": {
        "columns": 14,
        "rows": 8693
       }
      },
      "text/html": [
       "<div>\n",
       "<style scoped>\n",
       "    .dataframe tbody tr th:only-of-type {\n",
       "        vertical-align: middle;\n",
       "    }\n",
       "\n",
       "    .dataframe tbody tr th {\n",
       "        vertical-align: top;\n",
       "    }\n",
       "\n",
       "    .dataframe thead th {\n",
       "        text-align: right;\n",
       "    }\n",
       "</style>\n",
       "<table border=\"1\" class=\"dataframe\">\n",
       "  <thead>\n",
       "    <tr style=\"text-align: right;\">\n",
       "      <th></th>\n",
       "      <th>PassengerId</th>\n",
       "      <th>HomePlanet</th>\n",
       "      <th>CryoSleep</th>\n",
       "      <th>Cabin</th>\n",
       "      <th>Destination</th>\n",
       "      <th>Age</th>\n",
       "      <th>VIP</th>\n",
       "      <th>RoomService</th>\n",
       "      <th>FoodCourt</th>\n",
       "      <th>ShoppingMall</th>\n",
       "      <th>Spa</th>\n",
       "      <th>VRDeck</th>\n",
       "      <th>Name</th>\n",
       "      <th>Transported</th>\n",
       "    </tr>\n",
       "  </thead>\n",
       "  <tbody>\n",
       "    <tr>\n",
       "      <th>0</th>\n",
       "      <td>0001_01</td>\n",
       "      <td>Europa</td>\n",
       "      <td>False</td>\n",
       "      <td>B/0/P</td>\n",
       "      <td>TRAPPIST-1e</td>\n",
       "      <td>39.0</td>\n",
       "      <td>False</td>\n",
       "      <td>0.0</td>\n",
       "      <td>0.0</td>\n",
       "      <td>0.0</td>\n",
       "      <td>0.0</td>\n",
       "      <td>0.0</td>\n",
       "      <td>Maham Ofracculy</td>\n",
       "      <td>False</td>\n",
       "    </tr>\n",
       "    <tr>\n",
       "      <th>1</th>\n",
       "      <td>0002_01</td>\n",
       "      <td>Earth</td>\n",
       "      <td>False</td>\n",
       "      <td>F/0/S</td>\n",
       "      <td>TRAPPIST-1e</td>\n",
       "      <td>24.0</td>\n",
       "      <td>False</td>\n",
       "      <td>109.0</td>\n",
       "      <td>9.0</td>\n",
       "      <td>25.0</td>\n",
       "      <td>549.0</td>\n",
       "      <td>44.0</td>\n",
       "      <td>Juanna Vines</td>\n",
       "      <td>True</td>\n",
       "    </tr>\n",
       "    <tr>\n",
       "      <th>2</th>\n",
       "      <td>0003_01</td>\n",
       "      <td>Europa</td>\n",
       "      <td>False</td>\n",
       "      <td>A/0/S</td>\n",
       "      <td>TRAPPIST-1e</td>\n",
       "      <td>58.0</td>\n",
       "      <td>True</td>\n",
       "      <td>43.0</td>\n",
       "      <td>3576.0</td>\n",
       "      <td>0.0</td>\n",
       "      <td>6715.0</td>\n",
       "      <td>49.0</td>\n",
       "      <td>Altark Susent</td>\n",
       "      <td>False</td>\n",
       "    </tr>\n",
       "    <tr>\n",
       "      <th>3</th>\n",
       "      <td>0003_02</td>\n",
       "      <td>Europa</td>\n",
       "      <td>False</td>\n",
       "      <td>A/0/S</td>\n",
       "      <td>TRAPPIST-1e</td>\n",
       "      <td>33.0</td>\n",
       "      <td>False</td>\n",
       "      <td>0.0</td>\n",
       "      <td>1283.0</td>\n",
       "      <td>371.0</td>\n",
       "      <td>3329.0</td>\n",
       "      <td>193.0</td>\n",
       "      <td>Solam Susent</td>\n",
       "      <td>False</td>\n",
       "    </tr>\n",
       "    <tr>\n",
       "      <th>4</th>\n",
       "      <td>0004_01</td>\n",
       "      <td>Earth</td>\n",
       "      <td>False</td>\n",
       "      <td>F/1/S</td>\n",
       "      <td>TRAPPIST-1e</td>\n",
       "      <td>16.0</td>\n",
       "      <td>False</td>\n",
       "      <td>303.0</td>\n",
       "      <td>70.0</td>\n",
       "      <td>151.0</td>\n",
       "      <td>565.0</td>\n",
       "      <td>2.0</td>\n",
       "      <td>Willy Santantines</td>\n",
       "      <td>True</td>\n",
       "    </tr>\n",
       "    <tr>\n",
       "      <th>...</th>\n",
       "      <td>...</td>\n",
       "      <td>...</td>\n",
       "      <td>...</td>\n",
       "      <td>...</td>\n",
       "      <td>...</td>\n",
       "      <td>...</td>\n",
       "      <td>...</td>\n",
       "      <td>...</td>\n",
       "      <td>...</td>\n",
       "      <td>...</td>\n",
       "      <td>...</td>\n",
       "      <td>...</td>\n",
       "      <td>...</td>\n",
       "      <td>...</td>\n",
       "    </tr>\n",
       "    <tr>\n",
       "      <th>8688</th>\n",
       "      <td>9276_01</td>\n",
       "      <td>Europa</td>\n",
       "      <td>False</td>\n",
       "      <td>A/98/P</td>\n",
       "      <td>55 Cancri e</td>\n",
       "      <td>41.0</td>\n",
       "      <td>True</td>\n",
       "      <td>0.0</td>\n",
       "      <td>6819.0</td>\n",
       "      <td>0.0</td>\n",
       "      <td>1643.0</td>\n",
       "      <td>74.0</td>\n",
       "      <td>Gravior Noxnuther</td>\n",
       "      <td>False</td>\n",
       "    </tr>\n",
       "    <tr>\n",
       "      <th>8689</th>\n",
       "      <td>9278_01</td>\n",
       "      <td>Earth</td>\n",
       "      <td>True</td>\n",
       "      <td>G/1499/S</td>\n",
       "      <td>PSO J318.5-22</td>\n",
       "      <td>18.0</td>\n",
       "      <td>False</td>\n",
       "      <td>0.0</td>\n",
       "      <td>0.0</td>\n",
       "      <td>0.0</td>\n",
       "      <td>0.0</td>\n",
       "      <td>0.0</td>\n",
       "      <td>Kurta Mondalley</td>\n",
       "      <td>False</td>\n",
       "    </tr>\n",
       "    <tr>\n",
       "      <th>8690</th>\n",
       "      <td>9279_01</td>\n",
       "      <td>Earth</td>\n",
       "      <td>False</td>\n",
       "      <td>G/1500/S</td>\n",
       "      <td>TRAPPIST-1e</td>\n",
       "      <td>26.0</td>\n",
       "      <td>False</td>\n",
       "      <td>0.0</td>\n",
       "      <td>0.0</td>\n",
       "      <td>1872.0</td>\n",
       "      <td>1.0</td>\n",
       "      <td>0.0</td>\n",
       "      <td>Fayey Connon</td>\n",
       "      <td>True</td>\n",
       "    </tr>\n",
       "    <tr>\n",
       "      <th>8691</th>\n",
       "      <td>9280_01</td>\n",
       "      <td>Europa</td>\n",
       "      <td>False</td>\n",
       "      <td>E/608/S</td>\n",
       "      <td>55 Cancri e</td>\n",
       "      <td>32.0</td>\n",
       "      <td>False</td>\n",
       "      <td>0.0</td>\n",
       "      <td>1049.0</td>\n",
       "      <td>0.0</td>\n",
       "      <td>353.0</td>\n",
       "      <td>3235.0</td>\n",
       "      <td>Celeon Hontichre</td>\n",
       "      <td>False</td>\n",
       "    </tr>\n",
       "    <tr>\n",
       "      <th>8692</th>\n",
       "      <td>9280_02</td>\n",
       "      <td>Europa</td>\n",
       "      <td>False</td>\n",
       "      <td>E/608/S</td>\n",
       "      <td>TRAPPIST-1e</td>\n",
       "      <td>44.0</td>\n",
       "      <td>False</td>\n",
       "      <td>126.0</td>\n",
       "      <td>4688.0</td>\n",
       "      <td>0.0</td>\n",
       "      <td>0.0</td>\n",
       "      <td>12.0</td>\n",
       "      <td>Propsh Hontichre</td>\n",
       "      <td>True</td>\n",
       "    </tr>\n",
       "  </tbody>\n",
       "</table>\n",
       "<p>8693 rows × 14 columns</p>\n",
       "</div>"
      ],
      "text/plain": [
       "     PassengerId HomePlanet CryoSleep     Cabin    Destination   Age    VIP  \\\n",
       "0        0001_01     Europa     False     B/0/P    TRAPPIST-1e  39.0  False   \n",
       "1        0002_01      Earth     False     F/0/S    TRAPPIST-1e  24.0  False   \n",
       "2        0003_01     Europa     False     A/0/S    TRAPPIST-1e  58.0   True   \n",
       "3        0003_02     Europa     False     A/0/S    TRAPPIST-1e  33.0  False   \n",
       "4        0004_01      Earth     False     F/1/S    TRAPPIST-1e  16.0  False   \n",
       "...          ...        ...       ...       ...            ...   ...    ...   \n",
       "8688     9276_01     Europa     False    A/98/P    55 Cancri e  41.0   True   \n",
       "8689     9278_01      Earth      True  G/1499/S  PSO J318.5-22  18.0  False   \n",
       "8690     9279_01      Earth     False  G/1500/S    TRAPPIST-1e  26.0  False   \n",
       "8691     9280_01     Europa     False   E/608/S    55 Cancri e  32.0  False   \n",
       "8692     9280_02     Europa     False   E/608/S    TRAPPIST-1e  44.0  False   \n",
       "\n",
       "      RoomService  FoodCourt  ShoppingMall     Spa  VRDeck               Name  \\\n",
       "0             0.0        0.0           0.0     0.0     0.0    Maham Ofracculy   \n",
       "1           109.0        9.0          25.0   549.0    44.0       Juanna Vines   \n",
       "2            43.0     3576.0           0.0  6715.0    49.0      Altark Susent   \n",
       "3             0.0     1283.0         371.0  3329.0   193.0       Solam Susent   \n",
       "4           303.0       70.0         151.0   565.0     2.0  Willy Santantines   \n",
       "...           ...        ...           ...     ...     ...                ...   \n",
       "8688          0.0     6819.0           0.0  1643.0    74.0  Gravior Noxnuther   \n",
       "8689          0.0        0.0           0.0     0.0     0.0    Kurta Mondalley   \n",
       "8690          0.0        0.0        1872.0     1.0     0.0       Fayey Connon   \n",
       "8691          0.0     1049.0           0.0   353.0  3235.0   Celeon Hontichre   \n",
       "8692        126.0     4688.0           0.0     0.0    12.0   Propsh Hontichre   \n",
       "\n",
       "      Transported  \n",
       "0           False  \n",
       "1            True  \n",
       "2           False  \n",
       "3           False  \n",
       "4            True  \n",
       "...           ...  \n",
       "8688        False  \n",
       "8689        False  \n",
       "8690         True  \n",
       "8691        False  \n",
       "8692         True  \n",
       "\n",
       "[8693 rows x 14 columns]"
      ]
     },
     "execution_count": 78,
     "metadata": {},
     "output_type": "execute_result"
    }
   ],
   "source": [
    "spaceship = pd.read_csv(\"https://raw.githubusercontent.com/data-bootcamp-v4/data/main/spaceship_titanic.csv\")\n",
    "spaceship"
   ]
  },
  {
   "cell_type": "markdown",
   "metadata": {},
   "source": [
    "**Check the shape of your data**"
   ]
  },
  {
   "cell_type": "code",
   "execution_count": 79,
   "metadata": {},
   "outputs": [
    {
     "data": {
      "text/plain": [
       "(8693, 14)"
      ]
     },
     "execution_count": 79,
     "metadata": {},
     "output_type": "execute_result"
    }
   ],
   "source": [
    "spaceship.shape"
   ]
  },
  {
   "cell_type": "markdown",
   "metadata": {},
   "source": [
    "**Check for data types**"
   ]
  },
  {
   "cell_type": "code",
   "execution_count": 80,
   "metadata": {},
   "outputs": [
    {
     "data": {
      "application/vnd.microsoft.datawrangler.viewer.v0+json": {
       "columns": [
        {
         "name": "index",
         "rawType": "object",
         "type": "string"
        },
        {
         "name": "0",
         "rawType": "object",
         "type": "unknown"
        }
       ],
       "ref": "e10ee15d-f396-4d85-bfd7-0602fe6ff4a9",
       "rows": [
        [
         "PassengerId",
         "object"
        ],
        [
         "HomePlanet",
         "object"
        ],
        [
         "CryoSleep",
         "object"
        ],
        [
         "Cabin",
         "object"
        ],
        [
         "Destination",
         "object"
        ],
        [
         "Age",
         "float64"
        ],
        [
         "VIP",
         "object"
        ],
        [
         "RoomService",
         "float64"
        ],
        [
         "FoodCourt",
         "float64"
        ],
        [
         "ShoppingMall",
         "float64"
        ],
        [
         "Spa",
         "float64"
        ],
        [
         "VRDeck",
         "float64"
        ],
        [
         "Name",
         "object"
        ],
        [
         "Transported",
         "bool"
        ]
       ],
       "shape": {
        "columns": 1,
        "rows": 14
       }
      },
      "text/plain": [
       "PassengerId      object\n",
       "HomePlanet       object\n",
       "CryoSleep        object\n",
       "Cabin            object\n",
       "Destination      object\n",
       "Age             float64\n",
       "VIP              object\n",
       "RoomService     float64\n",
       "FoodCourt       float64\n",
       "ShoppingMall    float64\n",
       "Spa             float64\n",
       "VRDeck          float64\n",
       "Name             object\n",
       "Transported        bool\n",
       "dtype: object"
      ]
     },
     "execution_count": 80,
     "metadata": {},
     "output_type": "execute_result"
    }
   ],
   "source": [
    "spaceship.dtypes"
   ]
  },
  {
   "cell_type": "markdown",
   "metadata": {},
   "source": [
    "**Check for missing values**"
   ]
  },
  {
   "cell_type": "code",
   "execution_count": 81,
   "metadata": {},
   "outputs": [
    {
     "data": {
      "application/vnd.microsoft.datawrangler.viewer.v0+json": {
       "columns": [
        {
         "name": "index",
         "rawType": "object",
         "type": "string"
        },
        {
         "name": "0",
         "rawType": "int64",
         "type": "integer"
        }
       ],
       "ref": "3acbd6d4-5bbd-47f6-b36d-cca955d37bdb",
       "rows": [
        [
         "PassengerId",
         "0"
        ],
        [
         "HomePlanet",
         "201"
        ],
        [
         "CryoSleep",
         "217"
        ],
        [
         "Cabin",
         "199"
        ],
        [
         "Destination",
         "182"
        ],
        [
         "Age",
         "179"
        ],
        [
         "VIP",
         "203"
        ],
        [
         "RoomService",
         "181"
        ],
        [
         "FoodCourt",
         "183"
        ],
        [
         "ShoppingMall",
         "208"
        ],
        [
         "Spa",
         "183"
        ],
        [
         "VRDeck",
         "188"
        ],
        [
         "Name",
         "200"
        ],
        [
         "Transported",
         "0"
        ]
       ],
       "shape": {
        "columns": 1,
        "rows": 14
       }
      },
      "text/plain": [
       "PassengerId       0\n",
       "HomePlanet      201\n",
       "CryoSleep       217\n",
       "Cabin           199\n",
       "Destination     182\n",
       "Age             179\n",
       "VIP             203\n",
       "RoomService     181\n",
       "FoodCourt       183\n",
       "ShoppingMall    208\n",
       "Spa             183\n",
       "VRDeck          188\n",
       "Name            200\n",
       "Transported       0\n",
       "dtype: int64"
      ]
     },
     "execution_count": 81,
     "metadata": {},
     "output_type": "execute_result"
    }
   ],
   "source": [
    "spaceship.isnull().sum()"
   ]
  },
  {
   "cell_type": "markdown",
   "metadata": {},
   "source": [
    "There are multiple strategies to handle missing data\n",
    "\n",
    "- Removing all rows or all columns containing missing data.\n",
    "- Filling all missing values with a value (mean in continouos or mode in categorical for example).\n",
    "- Filling all missing values with an algorithm.\n",
    "\n",
    "For this exercise, because we have such low amount of null values, we will drop rows containing any missing value. "
   ]
  },
  {
   "cell_type": "code",
   "execution_count": 82,
   "metadata": {},
   "outputs": [],
   "source": [
    "spaceship = spaceship.dropna()"
   ]
  },
  {
   "cell_type": "code",
   "execution_count": 83,
   "metadata": {},
   "outputs": [
    {
     "data": {
      "application/vnd.microsoft.datawrangler.viewer.v0+json": {
       "columns": [
        {
         "name": "index",
         "rawType": "object",
         "type": "string"
        },
        {
         "name": "0",
         "rawType": "int64",
         "type": "integer"
        }
       ],
       "ref": "b02ec429-8ad5-4e32-96ed-98078cda8f8f",
       "rows": [
        [
         "PassengerId",
         "0"
        ],
        [
         "HomePlanet",
         "0"
        ],
        [
         "CryoSleep",
         "0"
        ],
        [
         "Cabin",
         "0"
        ],
        [
         "Destination",
         "0"
        ],
        [
         "Age",
         "0"
        ],
        [
         "VIP",
         "0"
        ],
        [
         "RoomService",
         "0"
        ],
        [
         "FoodCourt",
         "0"
        ],
        [
         "ShoppingMall",
         "0"
        ],
        [
         "Spa",
         "0"
        ],
        [
         "VRDeck",
         "0"
        ],
        [
         "Name",
         "0"
        ],
        [
         "Transported",
         "0"
        ]
       ],
       "shape": {
        "columns": 1,
        "rows": 14
       }
      },
      "text/plain": [
       "PassengerId     0\n",
       "HomePlanet      0\n",
       "CryoSleep       0\n",
       "Cabin           0\n",
       "Destination     0\n",
       "Age             0\n",
       "VIP             0\n",
       "RoomService     0\n",
       "FoodCourt       0\n",
       "ShoppingMall    0\n",
       "Spa             0\n",
       "VRDeck          0\n",
       "Name            0\n",
       "Transported     0\n",
       "dtype: int64"
      ]
     },
     "execution_count": 83,
     "metadata": {},
     "output_type": "execute_result"
    }
   ],
   "source": [
    "spaceship.isnull().sum()"
   ]
  },
  {
   "cell_type": "markdown",
   "metadata": {},
   "source": [
    "- **Cabin** is too granular - transform it in order to obtain {'A', 'B', 'C', 'D', 'E', 'F', 'G', 'T'}"
   ]
  },
  {
   "cell_type": "code",
   "execution_count": 84,
   "metadata": {},
   "outputs": [
    {
     "name": "stderr",
     "output_type": "stream",
     "text": [
      "C:\\Users\\Pedro\\AppData\\Local\\Temp\\ipykernel_63828\\3145400442.py:1: SettingWithCopyWarning: \n",
      "A value is trying to be set on a copy of a slice from a DataFrame.\n",
      "Try using .loc[row_indexer,col_indexer] = value instead\n",
      "\n",
      "See the caveats in the documentation: https://pandas.pydata.org/pandas-docs/stable/user_guide/indexing.html#returning-a-view-versus-a-copy\n",
      "  spaceship['Cabin'] = spaceship['Cabin'].str.split('/')\n"
     ]
    }
   ],
   "source": [
    "spaceship['Cabin'] = spaceship['Cabin'].str.split('/')"
   ]
  },
  {
   "cell_type": "markdown",
   "metadata": {},
   "source": [
    "- Drop PassengerId and Name"
   ]
  },
  {
   "cell_type": "code",
   "execution_count": 85,
   "metadata": {},
   "outputs": [],
   "source": [
    "spaceship = spaceship.drop(columns = [\"PassengerId\", 'Name'])\n"
   ]
  },
  {
   "cell_type": "markdown",
   "metadata": {},
   "source": [
    "- For non-numerical columns, do dummies."
   ]
  },
  {
   "cell_type": "code",
   "execution_count": 86,
   "metadata": {},
   "outputs": [
    {
     "data": {
      "application/vnd.microsoft.datawrangler.viewer.v0+json": {
       "columns": [
        {
         "name": "HomePlanet",
         "rawType": "object",
         "type": "string"
        },
        {
         "name": "count",
         "rawType": "int64",
         "type": "integer"
        }
       ],
       "ref": "f726e39c-3adb-49bd-bc00-68b1a9c2f120",
       "rows": [
        [
         "Earth",
         "3566"
        ],
        [
         "Europa",
         "1673"
        ],
        [
         "Mars",
         "1367"
        ]
       ],
       "shape": {
        "columns": 1,
        "rows": 3
       }
      },
      "text/plain": [
       "HomePlanet\n",
       "Earth     3566\n",
       "Europa    1673\n",
       "Mars      1367\n",
       "Name: count, dtype: int64"
      ]
     },
     "execution_count": 86,
     "metadata": {},
     "output_type": "execute_result"
    }
   ],
   "source": [
    "spaceship['HomePlanet'].value_counts()"
   ]
  },
  {
   "cell_type": "code",
   "execution_count": 87,
   "metadata": {},
   "outputs": [
    {
     "name": "stderr",
     "output_type": "stream",
     "text": [
      "C:\\Users\\Pedro\\AppData\\Local\\Temp\\ipykernel_63828\\98473020.py:5: FutureWarning: Downcasting behavior in `replace` is deprecated and will be removed in a future version. To retain the old behavior, explicitly call `result.infer_objects(copy=False)`. To opt-in to the future behavior, set `pd.set_option('future.no_silent_downcasting', True)`\n",
      "  spaceship['HomePlanet'] = spaceship['HomePlanet'].replace(map)\n"
     ]
    }
   ],
   "source": [
    "map = {'Earth': 0,\n",
    "       'Europa': 1,\n",
    "       'Mars': 2}\n",
    "\n",
    "spaceship['HomePlanet'] = spaceship['HomePlanet'].replace(map)"
   ]
  },
  {
   "cell_type": "code",
   "execution_count": 90,
   "metadata": {},
   "outputs": [
    {
     "data": {
      "application/vnd.microsoft.datawrangler.viewer.v0+json": {
       "columns": [
        {
         "name": "Destination",
         "rawType": "int64",
         "type": "integer"
        },
        {
         "name": "count",
         "rawType": "int64",
         "type": "integer"
        }
       ],
       "ref": "7a726ef4-8114-4250-8e80-73ffa45728ff",
       "rows": [
        [
         "0",
         "4576"
        ],
        [
         "1",
         "1407"
        ],
        [
         "2",
         "623"
        ]
       ],
       "shape": {
        "columns": 1,
        "rows": 3
       }
      },
      "text/plain": [
       "Destination\n",
       "0    4576\n",
       "1    1407\n",
       "2     623\n",
       "Name: count, dtype: int64"
      ]
     },
     "execution_count": 90,
     "metadata": {},
     "output_type": "execute_result"
    }
   ],
   "source": [
    "spaceship['Destination'].value_counts()"
   ]
  },
  {
   "cell_type": "code",
   "execution_count": 89,
   "metadata": {},
   "outputs": [
    {
     "name": "stderr",
     "output_type": "stream",
     "text": [
      "C:\\Users\\Pedro\\AppData\\Local\\Temp\\ipykernel_63828\\2560741336.py:5: FutureWarning: Downcasting behavior in `replace` is deprecated and will be removed in a future version. To retain the old behavior, explicitly call `result.infer_objects(copy=False)`. To opt-in to the future behavior, set `pd.set_option('future.no_silent_downcasting', True)`\n",
      "  spaceship['Destination'] = spaceship['Destination'].replace(map2)\n"
     ]
    }
   ],
   "source": [
    "map2 = {'TRAPPIST-1e': 0,\n",
    "        '55 Cancri e': 1,\n",
    "        'PSO J318.5-22': 2}\n",
    "\n",
    "spaceship['Destination'] = spaceship['Destination'].replace(map2)"
   ]
  },
  {
   "cell_type": "markdown",
   "metadata": {},
   "source": [
    "**Perform Train Test Split**"
   ]
  },
  {
   "cell_type": "code",
   "execution_count": 91,
   "metadata": {},
   "outputs": [],
   "source": [
    "features = spaceship.drop(['Transported', 'Cabin'], axis=1)\n",
    "target = spaceship['Transported']"
   ]
  },
  {
   "cell_type": "code",
   "execution_count": 92,
   "metadata": {},
   "outputs": [],
   "source": [
    "X_train, Y_test, x_train, y_train = train_test_split(features, target, test_size=0.20, random_state=0)"
   ]
  },
  {
   "cell_type": "markdown",
   "metadata": {},
   "source": [
    "**Model Selection**"
   ]
  },
  {
   "cell_type": "markdown",
   "metadata": {},
   "source": [
    "In this exercise we will be using **KNN** as our predictive model."
   ]
  },
  {
   "cell_type": "code",
   "execution_count": null,
   "metadata": {},
   "outputs": [],
   "source": [
    "from sklearn.neighbors import KNeighborsRegressor\n",
    "\n",
    "knn = KNeighborsRegressor()\n",
    "\n",
    "knn.fit(X_train, y_train)\n",
    "\n"
   ]
  },
  {
   "cell_type": "markdown",
   "metadata": {},
   "source": [
    "- Evaluate your model's performance. Comment it"
   ]
  },
  {
   "cell_type": "code",
   "execution_count": null,
   "metadata": {},
   "outputs": [],
   "source": [
    "#your code here"
   ]
  }
 ],
 "metadata": {
  "kernelspec": {
   "display_name": "Python 3",
   "language": "python",
   "name": "python3"
  },
  "language_info": {
   "codemirror_mode": {
    "name": "ipython",
    "version": 3
   },
   "file_extension": ".py",
   "mimetype": "text/x-python",
   "name": "python",
   "nbconvert_exporter": "python",
   "pygments_lexer": "ipython3",
   "version": "3.13.3"
  }
 },
 "nbformat": 4,
 "nbformat_minor": 2
}
